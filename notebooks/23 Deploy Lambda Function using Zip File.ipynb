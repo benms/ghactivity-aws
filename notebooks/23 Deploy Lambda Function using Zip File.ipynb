{
 "cells": [
  {
   "cell_type": "markdown",
   "metadata": {},
   "source": [
    "Here are the instructions to deploy the ghactivity ingest application as lambda function in the form of a zipped bundle.\n",
    "\n",
    "* Create a folder by name dependencies using `mkdir -p dependencies` under project folder ghactivity-aws.\n",
    "* Install all the required dependencies into the folder using `pip install -r requirements.txt -t dependencies`\n",
    "* Run below commands to create zip file.\n",
    "\n",
    "```\n",
    "cd dependencies\n",
    "zip -r ghactivity-aws.zip .\n",
    "mv ghactivity-aws.zip ..\n",
    "cd ..\n",
    "zip -r ghactivity-aws.zip app\n",
    "```\n",
    "\n",
    "* Create Lambda Function using Zip file and validate.\n",
    "* We need to make sure of the following to get it working.\n",
    "  * Setup required environment variables - **PYTHONAPP**, **BUCKET_NAME**, **FOLDER**.\n",
    "  * Make sure the configurations related to memory and timeout are proper.\n",
    "  * Make sure the role attached to lambda function have required permissions on s3 Buckets and Dynamo tables.\n",
    "* After successful runs, make sure to validate the following:\n",
    "  * Details provided provided by lambda function interface after execution\n",
    "  * Cloudwatch logs\n",
    "  * Job details and job run details\n",
    "  * Files under s3 (Make sure to review sizes of the files and also read data using Pandas to confirm files are uploaded properly)"
   ]
  },
  {
   "cell_type": "markdown",
   "metadata": {},
   "source": []
  }
 ],
 "metadata": {
  "language_info": {
   "name": "python"
  },
  "orig_nbformat": 4
 },
 "nbformat": 4,
 "nbformat_minor": 2
}
