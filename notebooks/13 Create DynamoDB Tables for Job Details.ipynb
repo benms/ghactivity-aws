{
 "cells": [
  {
   "cell_type": "markdown",
   "id": "7825a519-b227-44a3-8c44-918e9845948e",
   "metadata": {
    "tags": []
   },
   "source": [
    "## Create DynamoDB Tables for Job Details"
   ]
  },
  {
   "cell_type": "code",
   "execution_count": null,
   "id": "4654b9a2-c69f-4d99-ba54-9c264c2e307e",
   "metadata": {},
   "outputs": [],
   "source": [
    "import boto3"
   ]
  },
  {
   "cell_type": "code",
   "execution_count": null,
   "id": "1974ecdb-3ff1-4a8c-8616-18213f880b59",
   "metadata": {},
   "outputs": [],
   "source": [
    "dynamo_client = boto3.client('dynamodb')"
   ]
  },
  {
   "cell_type": "code",
   "execution_count": null,
   "id": "cc14ad8f-0494-429c-a5fa-e535d365eea9",
   "metadata": {},
   "outputs": [],
   "source": [
    "dynamo_client.list_tables()"
   ]
  },
  {
   "cell_type": "code",
   "execution_count": null,
   "id": "fdcca8cd-a481-4287-8b7a-ad57fc3af207",
   "metadata": {},
   "outputs": [],
   "source": [
    "tables = dynamo_client.list_tables()['TableNames']"
   ]
  },
  {
   "cell_type": "code",
   "execution_count": null,
   "id": "2141df5e-4c3a-4566-b135-da6d3034a98b",
   "metadata": {},
   "outputs": [],
   "source": [
    "'jobs' in tables"
   ]
  },
  {
   "cell_type": "code",
   "execution_count": null,
   "id": "24b0ae2d-9727-4916-8ddb-49127d999d15",
   "metadata": {},
   "outputs": [],
   "source": [
    "dynamo_client.create_table?"
   ]
  },
  {
   "cell_type": "code",
   "execution_count": null,
   "id": "3617beb5-eac3-4d64-8326-d58cb041d021",
   "metadata": {},
   "outputs": [],
   "source": [
    "if 'jobs' not in tables:\n",
    "    response = dynamo_client.create_table(\n",
    "        AttributeDefinitions=[\n",
    "            {\n",
    "                'AttributeName': 'job_id',\n",
    "                'AttributeType': 'S'\n",
    "            }\n",
    "        ],\n",
    "        TableName='jobs',\n",
    "        KeySchema=[\n",
    "            {\n",
    "              'AttributeName': 'job_id',\n",
    "              'KeyType': 'HASH'\n",
    "            },\n",
    "        ],\n",
    "        BillingMode='PAY_PER_REQUEST'\n",
    "    )\n",
    "\n",
    "    print(response)"
   ]
  },
  {
   "cell_type": "code",
   "execution_count": null,
   "id": "f95078c5-f7c0-4dba-b266-1bb4c447230c",
   "metadata": {},
   "outputs": [],
   "source": [
    "dynamo_client.list_tables()"
   ]
  },
  {
   "cell_type": "code",
   "execution_count": null,
   "id": "1732b26c-0656-4826-abd9-662b65557610",
   "metadata": {},
   "outputs": [],
   "source": [
    "dynamo_client.describe_table(TableName='jobs')"
   ]
  },
  {
   "cell_type": "code",
   "execution_count": null,
   "id": "50ded030-e55b-41d1-bd03-aa86f1d419ae",
   "metadata": {},
   "outputs": [],
   "source": [
    "dynamodb_resource = boto3.resource('dynamodb')"
   ]
  },
  {
   "cell_type": "code",
   "execution_count": null,
   "id": "0580d767-115d-4620-a071-c72f587f2193",
   "metadata": {},
   "outputs": [],
   "source": [
    "job_details_table = dynamodb_resource.Table('jobs')"
   ]
  },
  {
   "cell_type": "code",
   "execution_count": null,
   "id": "b38c2460-1fb5-4ad8-81f9-9248059927f2",
   "metadata": {},
   "outputs": [],
   "source": [
    "job_details = {\n",
    "    'job_id': 'ghactivity_ingest',\n",
    "    'job_description': 'Ingest ghactivity data to s3',\n",
    "    'is_active': 'Y'\n",
    "}"
   ]
  },
  {
   "cell_type": "code",
   "execution_count": null,
   "id": "d7911fe3-ea34-475a-bc86-d49ef76f1e54",
   "metadata": {},
   "outputs": [],
   "source": [
    "job_details_table.put_item(\n",
    "    Item=job_details\n",
    ")"
   ]
  },
  {
   "cell_type": "code",
   "execution_count": null,
   "id": "f34895c9-f707-472c-ad72-019936e9847a",
   "metadata": {},
   "outputs": [],
   "source": [
    "job_details_table.scan()"
   ]
  },
  {
   "cell_type": "code",
   "execution_count": null,
   "id": "54bf2802-143c-4aa3-a095-61384185e534",
   "metadata": {},
   "outputs": [],
   "source": [
    "job_details_table.get_item(Key={'job_id': 'ghactivity_ingest'})"
   ]
  },
  {
   "cell_type": "code",
   "execution_count": null,
   "id": "14b14521-d8c5-466b-9c74-e3095448b788",
   "metadata": {},
   "outputs": [],
   "source": [
    "job_details = {\n",
    "    'job_id': 'ghactivity_ingest',\n",
    "    'job_description': 'Ingest ghactivity data to s3',\n",
    "    'is_active': 'Y',\n",
    "    'baseline_days': 3\n",
    "}"
   ]
  },
  {
   "cell_type": "code",
   "execution_count": null,
   "id": "2ec1453b-116f-4fbd-aef5-fa3a285e9ac4",
   "metadata": {},
   "outputs": [],
   "source": [
    "job_details_table.put_item(\n",
    "    Item=job_details\n",
    ")"
   ]
  },
  {
   "cell_type": "code",
   "execution_count": null,
   "id": "80d6115f-8510-4396-ae78-3ad7b24739df",
   "metadata": {},
   "outputs": [],
   "source": [
    "job_details_table.get_item(Key={'job_id': 'ghactivity_ingest'})"
   ]
  }
 ],
 "metadata": {
  "interpreter": {
   "hash": "6b8722d5ee7b2bc8895cb8ad699558fd577ee3d6a9021414121a2e45c3805b8a"
  },
  "kernelspec": {
   "display_name": "Python 3.9.12 ('gi-venv': venv)",
   "language": "python",
   "name": "python3"
  },
  "language_info": {
   "codemirror_mode": {
    "name": "ipython",
    "version": 3
   },
   "file_extension": ".py",
   "mimetype": "text/x-python",
   "name": "python",
   "nbconvert_exporter": "python",
   "pygments_lexer": "ipython3",
   "version": "3.9.12"
  }
 },
 "nbformat": 4,
 "nbformat_minor": 5
}
