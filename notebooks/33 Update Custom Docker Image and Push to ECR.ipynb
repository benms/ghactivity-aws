{
 "cells": [
  {
   "cell_type": "markdown",
   "id": "5863a54f-f981-497c-b35d-1081c2dd729b",
   "metadata": {},
   "source": [
    "Here are the steps to push the changes to AWS ECR in the form of custom image.\n",
    "* Rebuild the image.\n",
    "* Tag the image.\n",
    "* Push the image.\n",
    "\n",
    "```\n",
    "docker build -t ghactivity-aws .\n",
    "\n",
    "# Login to docker\n",
    "aws ecr get-login-password \\\n",
    "  --region us-east-1 | \\\n",
    "  docker login \\\n",
    "  --username AWS \\\n",
    "  --password-stdin \\\n",
    "  582845781536.dkr.ecr.us-east-1.amazonaws.com\n",
    "\n",
    "# Tag docker image to make it ready to push to AWS ECR\n",
    "docker tag ghactivity-aws:latest \\\n",
    "  582845781536.dkr.ecr.us-east-1.amazonaws.com/ghactivity-aws:latest\n",
    "\n",
    "# Push custom docker image to AWS ECR\n",
    "docker push \\\n",
    "  582845781536.dkr.ecr.us-east-1.amazonaws.com/ghactivity-aws:latest\n",
    "```"
   ]
  },
  {
   "cell_type": "code",
   "execution_count": null,
   "id": "d9c7a4c4-4f2a-4399-ac5a-35a0e3f8a1e5",
   "metadata": {},
   "outputs": [],
   "source": []
  }
 ],
 "metadata": {
  "kernelspec": {
   "display_name": "Python 3 (ipykernel)",
   "language": "python",
   "name": "python3"
  },
  "language_info": {
   "codemirror_mode": {
    "name": "ipython",
    "version": 3
   },
   "file_extension": ".py",
   "mimetype": "text/x-python",
   "name": "python",
   "nbconvert_exporter": "python",
   "pygments_lexer": "ipython3",
   "version": "3.9.12"
  }
 },
 "nbformat": 4,
 "nbformat_minor": 5
}
