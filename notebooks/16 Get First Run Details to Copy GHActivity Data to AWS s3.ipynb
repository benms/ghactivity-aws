{
 "cells": [
  {
   "cell_type": "code",
   "execution_count": null,
   "id": "ecaae13f-603d-48b9-952f-0ff40d93a42f",
   "metadata": {},
   "outputs": [],
   "source": [
    "import boto3"
   ]
  },
  {
   "cell_type": "code",
   "execution_count": null,
   "id": "6f6bf4cd-6b7f-4a99-895c-0c1fb376e657",
   "metadata": {},
   "outputs": [],
   "source": [
    "def get_job_details(job_name):\n",
    "    dynamodb = boto3.resource('dynamodb')\n",
    "    table = dynamodb.Table('jobs')\n",
    "    job_details = table.get_item(Key={'job_id': job_name})['Item']\n",
    "    return job_details"
   ]
  },
  {
   "cell_type": "code",
   "execution_count": null,
   "id": "339b5126-4568-4c96-858f-3b7d169b5eea",
   "metadata": {},
   "outputs": [],
   "source": [
    "job_details = get_job_details('ghactivity_ingest')\n",
    "job_details"
   ]
  },
  {
   "cell_type": "code",
   "execution_count": null,
   "id": "06ad34a4-61e2-411d-95a1-010eca6d1841",
   "metadata": {},
   "outputs": [],
   "source": [
    "from datetime import datetime as dt"
   ]
  },
  {
   "cell_type": "code",
   "execution_count": null,
   "id": "33ca553a-1e58-43f1-844e-718901875082",
   "metadata": {},
   "outputs": [],
   "source": [
    "from datetime import timedelta as td"
   ]
  },
  {
   "cell_type": "code",
   "execution_count": null,
   "id": "8a9e1d78-5ab3-44b1-9070-1052edf06f8f",
   "metadata": {},
   "outputs": [],
   "source": [
    "dt.now().date()"
   ]
  },
  {
   "cell_type": "code",
   "execution_count": null,
   "id": "d2d5dba6-659b-484c-a998-23a9b28912e1",
   "metadata": {},
   "outputs": [],
   "source": [
    "dt.now().date() - td(days=3)"
   ]
  },
  {
   "cell_type": "code",
   "execution_count": null,
   "id": "6c384d6f-ec6f-45bd-9f91-6d5a31b675c4",
   "metadata": {},
   "outputs": [],
   "source": [
    "f'{dt.strftime(dt.now().date() - td(days=3), \"%Y-%m-%d\")}-0.json.gz'"
   ]
  },
  {
   "cell_type": "code",
   "execution_count": null,
   "id": "14f90732-a3de-485d-bd7d-2c213d9d780d",
   "metadata": {},
   "outputs": [],
   "source": [
    "next_file = f'{dt.strftime(dt.now().date() - td(days=3), \"%Y-%m-%d\")}-0.json.gz'"
   ]
  },
  {
   "cell_type": "code",
   "execution_count": null,
   "id": "b92b69c1-15e5-4011-aac1-ec9247b2cfce",
   "metadata": {},
   "outputs": [],
   "source": [
    "import requests"
   ]
  },
  {
   "cell_type": "code",
   "execution_count": null,
   "id": "4ec0bd33-60c5-4439-ba8c-63ee7fbd4629",
   "metadata": {},
   "outputs": [],
   "source": [
    "res = requests.get(f'https://data.gharchive.org/{next_file}'). \\\n",
    "    content"
   ]
  },
  {
   "cell_type": "code",
   "execution_count": null,
   "id": "efe4bc99-2380-47c6-95b8-680c1e92213d",
   "metadata": {},
   "outputs": [],
   "source": [
    "file = open(f'data/{next_file}', 'wb')"
   ]
  },
  {
   "cell_type": "code",
   "execution_count": null,
   "id": "7369254a-adb3-4a5c-bcd4-dfc76ee3611c",
   "metadata": {},
   "outputs": [],
   "source": [
    "file.write(res)"
   ]
  },
  {
   "cell_type": "code",
   "execution_count": null,
   "id": "28532131-39c4-468a-9823-4bf6860090cf",
   "metadata": {},
   "outputs": [],
   "source": [
    "file.close()"
   ]
  },
  {
   "cell_type": "code",
   "execution_count": null,
   "id": "26c7382e-a855-4848-8fc7-e3e0e74d7730",
   "metadata": {},
   "outputs": [],
   "source": [
    "!ls -ltr data/"
   ]
  },
  {
   "cell_type": "code",
   "execution_count": null,
   "id": "e1939f8f-0409-4c63-bcc6-a2c188ff241f",
   "metadata": {},
   "outputs": [],
   "source": [
    "import pandas as pd"
   ]
  },
  {
   "cell_type": "code",
   "execution_count": null,
   "id": "6a169ece-ad25-41fd-babe-686fbfa52ed0",
   "metadata": {},
   "outputs": [],
   "source": [
    "df = pd.read_json(\n",
    "    'data/2022-05-31-0.json.gz', \n",
    "    lines=True, \n",
    "    orient='records'\n",
    ")"
   ]
  },
  {
   "cell_type": "code",
   "execution_count": null,
   "id": "aa971552-35d7-4462-8012-cf512c02588e",
   "metadata": {},
   "outputs": [],
   "source": [
    "df"
   ]
  },
  {
   "cell_type": "code",
   "execution_count": null,
   "id": "65332f4b-dfbd-4121-b3a3-323354e8a873",
   "metadata": {},
   "outputs": [],
   "source": []
  }
 ],
 "metadata": {
  "kernelspec": {
   "display_name": "Python 3 (ipykernel)",
   "language": "python",
   "name": "python3"
  },
  "language_info": {
   "codemirror_mode": {
    "name": "ipython",
    "version": 3
   },
   "file_extension": ".py",
   "mimetype": "text/x-python",
   "name": "python",
   "nbconvert_exporter": "python",
   "pygments_lexer": "ipython3",
   "version": "3.9.12"
  }
 },
 "nbformat": 4,
 "nbformat_minor": 5
}
