{
 "cells": [
  {
   "cell_type": "code",
   "execution_count": 1,
   "id": "55a4cdeb-0e7a-46f5-b39d-2b7130944fad",
   "metadata": {},
   "outputs": [],
   "source": [
    "!aws s3 rm s3://itversitydata/ghactivity --recursive"
   ]
  },
  {
   "cell_type": "code",
   "execution_count": 2,
   "id": "5add8545-d385-4bf9-ae09-63e88a129c61",
   "metadata": {},
   "outputs": [
    {
     "data": {
      "text/plain": [
       "{'ResponseMetadata': {'RequestId': '18RH7VV7C0LAT85JJ4442F7A2NVV4KQNSO5AEMVJF66Q9ASUAAJG',\n",
       "  'HTTPStatusCode': 200,\n",
       "  'HTTPHeaders': {'server': 'Server',\n",
       "   'date': 'Sat, 04 Jun 2022 00:44:48 GMT',\n",
       "   'content-type': 'application/x-amz-json-1.0',\n",
       "   'content-length': '2',\n",
       "   'connection': 'keep-alive',\n",
       "   'x-amzn-requestid': '18RH7VV7C0LAT85JJ4442F7A2NVV4KQNSO5AEMVJF66Q9ASUAAJG',\n",
       "   'x-amz-crc32': '2745614147'},\n",
       "  'RetryAttempts': 0}}"
      ]
     },
     "execution_count": 2,
     "metadata": {},
     "output_type": "execute_result"
    }
   ],
   "source": [
    "import boto3\n",
    "\n",
    "dynamodb = boto3.resource('dynamodb')\n",
    "table = dynamodb.Table('jobs')\n",
    "table.delete_item(Key={'job_id': 'ghactivity_ingest'})\n",
    "item = {\n",
    "    'job_id': 'ghactivity_ingest',\n",
    "    'job_description': 'Ingest data from gmail to s3',\n",
    "    'is_active': 'Y',\n",
    "    'baseline_days': 3\n",
    "}\n",
    "table.put_item(Item=item)"
   ]
  },
  {
   "cell_type": "code",
   "execution_count": 3,
   "id": "543b0e41",
   "metadata": {},
   "outputs": [],
   "source": [
    "import requests"
   ]
  },
  {
   "cell_type": "code",
   "execution_count": 4,
   "id": "9df97c74",
   "metadata": {},
   "outputs": [],
   "source": [
    "next_file = '2022-06-01-0.json.gz'"
   ]
  },
  {
   "cell_type": "code",
   "execution_count": 5,
   "id": "d5fce655",
   "metadata": {},
   "outputs": [],
   "source": [
    "res = requests.get(f'https://data.gharchive.org/{next_file}')"
   ]
  },
  {
   "cell_type": "code",
   "execution_count": 6,
   "id": "16ae3149",
   "metadata": {},
   "outputs": [],
   "source": [
    "s3_client = boto3.client('s3')"
   ]
  },
  {
   "cell_type": "code",
   "execution_count": 7,
   "id": "d4d16dab",
   "metadata": {},
   "outputs": [],
   "source": [
    "upload_res = s3_client.put_object(\n",
    "   Bucket='itversitydata',\n",
    "   Key=f'ghactivity/{next_file}',\n",
    "   Body=res.content\n",
    ")\n"
   ]
  },
  {
   "cell_type": "code",
   "execution_count": 8,
   "id": "1fce91c3",
   "metadata": {},
   "outputs": [
    {
     "name": "stdout",
     "output_type": "stream",
     "text": [
      "{'ResponseMetadata': {'RequestId': 'FSKC89G1FM3Y22PX', 'HostId': '6zSKY1f+TfIO/s/B+fyDsKo4ElVr9epgAiD6cd12oG/2Y9n1kIh7YJF1CV9I8K/1Jpw5WMmVS4c=', 'HTTPStatusCode': 200, 'HTTPHeaders': {'x-amz-id-2': '6zSKY1f+TfIO/s/B+fyDsKo4ElVr9epgAiD6cd12oG/2Y9n1kIh7YJF1CV9I8K/1Jpw5WMmVS4c=', 'x-amz-request-id': 'FSKC89G1FM3Y22PX', 'date': 'Sat, 04 Jun 2022 00:45:01 GMT', 'etag': '\"fcb8d11ef628f8482af9d915b131e485\"', 'server': 'AmazonS3', 'content-length': '0'}, 'RetryAttempts': 0}, 'ETag': '\"fcb8d11ef628f8482af9d915b131e485\"'}\n"
     ]
    }
   ],
   "source": [
    "\n",
    "print(upload_res)"
   ]
  },
  {
   "cell_type": "code",
   "execution_count": 9,
   "id": "f3ab2cf0-6816-49c7-8e5c-ce2600262f8e",
   "metadata": {},
   "outputs": [
    {
     "name": "stdout",
     "output_type": "stream",
     "text": [
      "2022-06-04 06:15:01   98882105 2022-06-01-0.json.gz\n"
     ]
    }
   ],
   "source": [
    "!aws s3 ls s3://itversitydata/ghactivity/"
   ]
  },
  {
   "cell_type": "code",
   "execution_count": null,
   "id": "22969c7f-627f-4582-ab59-d82bc7832436",
   "metadata": {},
   "outputs": [],
   "source": []
  }
 ],
 "metadata": {
  "interpreter": {
   "hash": "6b8722d5ee7b2bc8895cb8ad699558fd577ee3d6a9021414121a2e45c3805b8a"
  },
  "kernelspec": {
   "display_name": "Python 3.9.12 ('gi-venv': venv)",
   "language": "python",
   "name": "python3"
  },
  "language_info": {
   "codemirror_mode": {
    "name": "ipython",
    "version": 3
   },
   "file_extension": ".py",
   "mimetype": "text/x-python",
   "name": "python",
   "nbconvert_exporter": "python",
   "pygments_lexer": "ipython3",
   "version": "3.9.12"
  }
 },
 "nbformat": 4,
 "nbformat_minor": 5
}
