{
 "cells": [
  {
   "cell_type": "markdown",
   "id": "8fe93344-2c87-4e1d-bef2-878f5c59fb8d",
   "metadata": {},
   "source": [
    "After exploring the logic to read the files from s3, process using pandas and then write back to s3 using parquet format, it is time for us to update the application and deploy.\n",
    "\n",
    "* We need to make sure job metadata is setup properly.\n",
    "* Add core logic to get transform the data write back to s3 as part of **ghactivity_transform.py**.\n",
    "* Make sure to export PYTHONPATH using `export PYTHONPATH=app` (considering you are in **ghactivity-aws** folder)\n",
    "* Export required environment variables **BUCKET_NAME** and **FOLDER** and then run using `python -c \"import app;app.ghactivity_transform_to_parquet('s3://itversitydata/landing/ghactivity/2022-06-02-2.json.gz')\"`. We need to pass the return dict object by ingestor as argument."
   ]
  },
  {
   "cell_type": "code",
   "execution_count": null,
   "id": "c4262d09-3704-4b37-9f54-3acacef9f9f7",
   "metadata": {},
   "outputs": [],
   "source": []
  }
 ],
 "metadata": {
  "kernelspec": {
   "display_name": "Python 3 (ipykernel)",
   "language": "python",
   "name": "python3"
  },
  "language_info": {
   "codemirror_mode": {
    "name": "ipython",
    "version": 3
   },
   "file_extension": ".py",
   "mimetype": "text/x-python",
   "name": "python",
   "nbconvert_exporter": "python",
   "pygments_lexer": "ipython3",
   "version": "3.9.12"
  }
 },
 "nbformat": 4,
 "nbformat_minor": 5
}
