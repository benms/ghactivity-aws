{
 "cells": [
  {
   "cell_type": "markdown",
   "id": "1e1f7364-1c2c-44b1-a5e6-a1e66cb603f7",
   "metadata": {},
   "source": [
    "Here are the steps to create AWS lambda function using custom docker image in AWS ECR.\n",
    "* Create AWS lambda function using Web Console leveraging custom docker image pushed to AWS ECR.\n",
    "* Make sure there are required permissions on AWS s3 for AWS Lambda Function to write the data.\n",
    "* Make sure the image is deployed using latest image.\n",
    "* Run and validate to see if the lambda function is working as expected or not."
   ]
  },
  {
   "cell_type": "code",
   "execution_count": null,
   "id": "70438b28-cf9d-4a45-9826-74bbb00f2cca",
   "metadata": {
    "vscode": {
     "languageId": "python"
    }
   },
   "outputs": [],
   "source": []
  }
 ],
 "metadata": {
  "kernelspec": {
   "display_name": "PySpark",
   "language": "",
   "name": "pysparkkernel"
  },
  "language_info": {
   "name": ""
  }
 },
 "nbformat": 4,
 "nbformat_minor": 5
}
