{
 "cells": [
  {
   "cell_type": "markdown",
   "id": "698c5219-e078-404a-8628-21f8ec8df690",
   "metadata": {},
   "source": [
    "## Recap of Date Arithmetic using Python"
   ]
  },
  {
   "cell_type": "code",
   "execution_count": 1,
   "id": "ad0bfd45-066c-4494-b3e7-d21163b49015",
   "metadata": {},
   "outputs": [],
   "source": [
    "from datetime import datetime as dt"
   ]
  },
  {
   "cell_type": "code",
   "execution_count": 2,
   "id": "183c8c01-bff8-47e1-99db-19a3d95c4d8c",
   "metadata": {},
   "outputs": [],
   "source": [
    "import time"
   ]
  },
  {
   "cell_type": "code",
   "execution_count": 3,
   "id": "8c566383-3f5b-4fa4-9e54-99d99634f11b",
   "metadata": {},
   "outputs": [
    {
     "data": {
      "text/plain": [
       "datetime.datetime(2022, 6, 5, 16, 39, 37, 167166)"
      ]
     },
     "execution_count": 3,
     "metadata": {},
     "output_type": "execute_result"
    }
   ],
   "source": [
    "dt.now()"
   ]
  },
  {
   "cell_type": "code",
   "execution_count": 4,
   "id": "f3a0a454-1652-4f2c-962b-1a764017544b",
   "metadata": {},
   "outputs": [
    {
     "data": {
      "text/plain": [
       "'2022-06-05-16'"
      ]
     },
     "execution_count": 4,
     "metadata": {},
     "output_type": "execute_result"
    }
   ],
   "source": [
    "dt.strftime(dt.now(), '%Y-%m-%d-%-H')"
   ]
  },
  {
   "cell_type": "code",
   "execution_count": 5,
   "id": "0862c7d0-25f9-4ca6-8230-f653c930617b",
   "metadata": {},
   "outputs": [
    {
     "data": {
      "text/plain": [
       "'2022-06-03-1'"
      ]
     },
     "execution_count": 5,
     "metadata": {},
     "output_type": "execute_result"
    }
   ],
   "source": [
    "dt.strftime(dt(2022, 6, 3, 1, 1, 0), '%Y-%m-%d-%-H')"
   ]
  },
  {
   "cell_type": "code",
   "execution_count": 6,
   "id": "89585d65-f08b-4cb3-9ebc-2a926194f1a8",
   "metadata": {},
   "outputs": [],
   "source": [
    "dt_part = dt.strftime(dt(2022, 6, 3, 1, 1, 0), '%Y-%m-%d-%-H')"
   ]
  },
  {
   "cell_type": "code",
   "execution_count": 10,
   "id": "6c90ddac-0c1c-4536-b2cf-0a197d6eb68e",
   "metadata": {},
   "outputs": [],
   "source": [
    "from datetime import timedelta as td"
   ]
  },
  {
   "cell_type": "code",
   "execution_count": 12,
   "id": "43d20b96-ea52-4046-b2cb-8b93dab11d9a",
   "metadata": {},
   "outputs": [],
   "source": [
    "next_file = f\"{dt.strftime(dt.strptime(dt_part, '%Y-%m-%d-%H') + td(hours=1), '%Y-%m-%d-%-H')}.json.gz\""
   ]
  },
  {
   "cell_type": "code",
   "execution_count": 13,
   "id": "7b958ca0-e09b-41ab-a0fb-4a28666747b0",
   "metadata": {},
   "outputs": [
    {
     "data": {
      "text/plain": [
       "'2022-06-03-2.json.gz'"
      ]
     },
     "execution_count": 13,
     "metadata": {},
     "output_type": "execute_result"
    }
   ],
   "source": [
    "next_file"
   ]
  },
  {
   "cell_type": "code",
   "execution_count": null,
   "id": "2c3d2806-7870-41cf-b433-e7c5c4dea6c5",
   "metadata": {},
   "outputs": [],
   "source": []
  }
 ],
 "metadata": {
  "interpreter": {
   "hash": "6b8722d5ee7b2bc8895cb8ad699558fd577ee3d6a9021414121a2e45c3805b8a"
  },
  "kernelspec": {
   "display_name": "Python 3.9.12 ('gi-venv': venv)",
   "language": "python",
   "name": "python3"
  },
  "language_info": {
   "codemirror_mode": {
    "name": "ipython",
    "version": 3
   },
   "file_extension": ".py",
   "mimetype": "text/x-python",
   "name": "python",
   "nbconvert_exporter": "python",
   "pygments_lexer": "ipython3",
   "version": "3.9.12"
  }
 },
 "nbformat": 4,
 "nbformat_minor": 5
}
