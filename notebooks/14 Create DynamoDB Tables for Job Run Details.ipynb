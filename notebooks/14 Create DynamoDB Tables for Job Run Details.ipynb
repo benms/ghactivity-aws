{
 "cells": [
  {
   "cell_type": "markdown",
   "id": "9b8be156-c331-4d60-a61e-60da7a269766",
   "metadata": {},
   "source": [
    "## Create DynamoDB Tables for Job Run Details"
   ]
  },
  {
   "cell_type": "code",
   "execution_count": null,
   "id": "4654b9a2-c69f-4d99-ba54-9c264c2e307e",
   "metadata": {},
   "outputs": [],
   "source": [
    "import boto3"
   ]
  },
  {
   "cell_type": "code",
   "execution_count": null,
   "id": "1974ecdb-3ff1-4a8c-8616-18213f880b59",
   "metadata": {},
   "outputs": [],
   "source": [
    "dynamo_client = boto3.client('dynamodb')"
   ]
  },
  {
   "cell_type": "code",
   "execution_count": null,
   "id": "cc14ad8f-0494-429c-a5fa-e535d365eea9",
   "metadata": {},
   "outputs": [],
   "source": [
    "dynamo_client.list_tables()"
   ]
  },
  {
   "cell_type": "code",
   "execution_count": null,
   "id": "bfd32f77-b653-4ea2-915d-c2e45932a5f4",
   "metadata": {},
   "outputs": [],
   "source": [
    "dynamo_client.delete_table(TableName='job_run_details')"
   ]
  },
  {
   "cell_type": "code",
   "execution_count": null,
   "id": "1d07db82-514e-477a-8716-87ecf3eaf9ca",
   "metadata": {},
   "outputs": [],
   "source": [
    "dynamo_client.create_table?"
   ]
  },
  {
   "cell_type": "code",
   "execution_count": null,
   "id": "208d766f-5fff-4005-bcaa-23b809f586f0",
   "metadata": {},
   "outputs": [],
   "source": [
    "dynamo_client.delete_table?"
   ]
  },
  {
   "cell_type": "code",
   "execution_count": null,
   "id": "5929d869-0420-4848-b785-61420695cbf8",
   "metadata": {},
   "outputs": [],
   "source": [
    "dynamo_client.delete_table(TableName='job_run_details')"
   ]
  },
  {
   "cell_type": "code",
   "execution_count": null,
   "id": "8cc5247e-22f4-413e-88c2-126f024aac30",
   "metadata": {},
   "outputs": [],
   "source": [
    "response = dynamo_client.create_table(\n",
    "    AttributeDefinitions=[\n",
    "        {\n",
    "            'AttributeName': 'job_id',\n",
    "            'AttributeType': 'S'\n",
    "        },\n",
    "                {\n",
    "            'AttributeName': 'job_run_time',\n",
    "            'AttributeType': 'N'\n",
    "        }\n",
    "    ],\n",
    "    TableName='job_run_details',\n",
    "    KeySchema=[\n",
    "        {\n",
    "          'AttributeName': 'job_id',\n",
    "          'KeyType': 'HASH'\n",
    "        },\n",
    "        {\n",
    "          'AttributeName': 'job_run_time',\n",
    "          'KeyType': 'RANGE'\n",
    "        },        \n",
    "    ],\n",
    "    BillingMode='PAY_PER_REQUEST'\n",
    ")"
   ]
  },
  {
   "cell_type": "code",
   "execution_count": null,
   "id": "93d40fa5-a3fa-4f82-b141-ef6ea7523cca",
   "metadata": {},
   "outputs": [],
   "source": [
    "response"
   ]
  },
  {
   "cell_type": "code",
   "execution_count": null,
   "id": "f95078c5-f7c0-4dba-b266-1bb4c447230c",
   "metadata": {},
   "outputs": [],
   "source": [
    "dynamo_client.list_tables()"
   ]
  },
  {
   "cell_type": "code",
   "execution_count": null,
   "id": "1732b26c-0656-4826-abd9-662b65557610",
   "metadata": {},
   "outputs": [],
   "source": [
    "dynamo_client.describe_table(TableName='job_run_details')"
   ]
  },
  {
   "cell_type": "code",
   "execution_count": null,
   "id": "50ded030-e55b-41d1-bd03-aa86f1d419ae",
   "metadata": {},
   "outputs": [],
   "source": [
    "dynamodb_resource = boto3.resource('dynamodb')"
   ]
  },
  {
   "cell_type": "code",
   "execution_count": null,
   "id": "0580d767-115d-4620-a071-c72f587f2193",
   "metadata": {},
   "outputs": [],
   "source": [
    "job_details_table = dynamodb_resource.Table('job_run_details')"
   ]
  },
  {
   "cell_type": "code",
   "execution_count": null,
   "id": "db1c7bf8-d304-4c0b-8902-21f22bdbdf7b",
   "metadata": {},
   "outputs": [],
   "source": [
    "import time\n",
    "import datetime"
   ]
  },
  {
   "cell_type": "code",
   "execution_count": null,
   "id": "3dd03dc6-5b4f-4727-9a9e-a2ceefa451e0",
   "metadata": {},
   "outputs": [],
   "source": [
    "jrd_item = {\n",
    "    'job_id': 'ghactivity_ingest',\n",
    "    'job_run_time': int(time.mktime(datetime.datetime.now().timetuple())),\n",
    "    'job_run_bookmark_details': {\n",
    "        'processed_file_name': '2022-06-03-0.json.gz'\n",
    "    }\n",
    "}"
   ]
  },
  {
   "cell_type": "code",
   "execution_count": null,
   "id": "c2d744f5-1c1d-45dc-9d38-9895486dfe15",
   "metadata": {},
   "outputs": [],
   "source": [
    "jrd_item"
   ]
  },
  {
   "cell_type": "code",
   "execution_count": null,
   "id": "366a84e1-b0da-4ce4-afe9-7f2caa9a148e",
   "metadata": {},
   "outputs": [],
   "source": [
    "job_details_table.put_item(\n",
    "    Item=jrd_item\n",
    ")"
   ]
  },
  {
   "cell_type": "code",
   "execution_count": null,
   "id": "791b1baf-6205-43dc-85c1-07a29fe4fff4",
   "metadata": {},
   "outputs": [],
   "source": [
    "job_details_table.scan()"
   ]
  },
  {
   "cell_type": "code",
   "execution_count": null,
   "id": "506dcee5-b817-4279-8d92-78c32b16846a",
   "metadata": {},
   "outputs": [],
   "source": []
  }
 ],
 "metadata": {
  "interpreter": {
   "hash": "6b8722d5ee7b2bc8895cb8ad699558fd577ee3d6a9021414121a2e45c3805b8a"
  },
  "kernelspec": {
   "display_name": "Python 3.9.12 ('gi-venv': venv)",
   "language": "python",
   "name": "python3"
  },
  "language_info": {
   "codemirror_mode": {
    "name": "ipython",
    "version": 3
   },
   "file_extension": ".py",
   "mimetype": "text/x-python",
   "name": "python",
   "nbconvert_exporter": "python",
   "pygments_lexer": "ipython3",
   "version": "3.9.12"
  }
 },
 "nbformat": 4,
 "nbformat_minor": 5
}
