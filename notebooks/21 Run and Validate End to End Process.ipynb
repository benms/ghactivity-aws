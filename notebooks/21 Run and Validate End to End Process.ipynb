{
 "cells": [
  {
   "cell_type": "code",
   "execution_count": 1,
   "id": "7562453f",
   "metadata": {},
   "outputs": [
    {
     "name": "stdout",
     "output_type": "stream",
     "text": [
      "delete: s3://itversitydata/landing/ghactivity/2022-06-02-5.json.gz\n",
      "delete: s3://itversitydata/landing/ghactivity/2022-06-02-4.json.gz\n",
      "delete: s3://itversitydata/landing/ghactivity/2022-06-02-0.json.gz\n",
      "delete: s3://itversitydata/landing/ghactivity/2022-06-02-1.json.gz\n",
      "delete: s3://itversitydata/landing/ghactivity/2022-06-02-6.json.gz\n"
     ]
    }
   ],
   "source": [
    "!aws s3 rm s3://itversitydata/landing/ghactivity --recursive"
   ]
  },
  {
   "cell_type": "code",
   "execution_count": 2,
   "id": "e03c7bc1",
   "metadata": {},
   "outputs": [
    {
     "name": "stdout",
     "output_type": "stream",
     "text": [
      "delete: s3://itversitydata/raw/ghactivity/year=2022/month=06/dayofmonth=02/part-2505d17d-e4c9-11ec-a3db-f748962304a8.snappy.parquet\n",
      "delete: s3://itversitydata/raw/ghactivity/year=2022/month=06/dayofmonth=02/42eb057a-e49d-11ec-8618-acde48001122.snappy.parquet\n",
      "delete: s3://itversitydata/raw/ghactivity/year=2022/month=06/dayofmonth=02/153561c0-e49d-11ec-8618-acde48001122.snappy.parquet\n",
      "delete: s3://itversitydata/raw/ghactivity/year=2022/month=06/dayofmonth=02/part-f66706f7-e4c5-11ec-8df5-91c9df4b8e60.snappy.parquet\n"
     ]
    }
   ],
   "source": [
    "!aws s3 rm s3://itversitydata/raw/ghactivity --recursive"
   ]
  },
  {
   "cell_type": "code",
   "execution_count": 3,
   "id": "917056eb",
   "metadata": {},
   "outputs": [],
   "source": [
    "import boto3"
   ]
  },
  {
   "cell_type": "code",
   "execution_count": 4,
   "id": "0a0261a8",
   "metadata": {},
   "outputs": [
    {
     "data": {
      "text/plain": [
       "{'ResponseMetadata': {'RequestId': 'TKTG0SFDVCE8GRV7Q80EJ5CPNBVV4KQNSO5AEMVJF66Q9ASUAAJG',\n",
       "  'HTTPStatusCode': 200,\n",
       "  'HTTPHeaders': {'server': 'Server',\n",
       "   'date': 'Sun, 05 Jun 2022 13:08:14 GMT',\n",
       "   'content-type': 'application/x-amz-json-1.0',\n",
       "   'content-length': '2',\n",
       "   'connection': 'keep-alive',\n",
       "   'x-amzn-requestid': 'TKTG0SFDVCE8GRV7Q80EJ5CPNBVV4KQNSO5AEMVJF66Q9ASUAAJG',\n",
       "   'x-amz-crc32': '2745614147'},\n",
       "  'RetryAttempts': 0}}"
      ]
     },
     "execution_count": 4,
     "metadata": {},
     "output_type": "execute_result"
    }
   ],
   "source": [
    "dynamodb = boto3.resource('dynamodb')\n",
    "table = dynamodb.Table('jobs')\n",
    "table.delete_item(Key={'job_id': 'ghactivity_ingest'})\n",
    "item = {\n",
    "    'job_id': 'ghactivity_ingest',\n",
    "    'job_description': 'Ingest data from gmail to s3',\n",
    "    'is_active': 'Y',\n",
    "    'baseline_days': 3\n",
    "}\n",
    "table.put_item(Item=item)"
   ]
  },
  {
   "cell_type": "code",
   "execution_count": 5,
   "id": "dbbd470a",
   "metadata": {},
   "outputs": [],
   "source": [
    "from datetime import datetime as dt\n",
    "from datetime import timedelta as td\n",
    "import time"
   ]
  },
  {
   "cell_type": "code",
   "execution_count": 6,
   "id": "966ea50b",
   "metadata": {},
   "outputs": [],
   "source": [
    "def get_job_details(job_name):\n",
    "    dynamodb = boto3.resource('dynamodb')\n",
    "    table = dynamodb.Table('jobs')\n",
    "    job_details = table.get_item(Key={'job_id': job_name})['Item']\n",
    "    return job_details"
   ]
  },
  {
   "cell_type": "code",
   "execution_count": 7,
   "id": "87cd66e8",
   "metadata": {},
   "outputs": [],
   "source": [
    "def get_next_file_name(job_details):\n",
    "    job_start_time = int(time.mktime(dt.now().timetuple()))\n",
    "    job_run_bookmark_details = job_details.get('job_run_bookmark_details')\n",
    "    if job_run_bookmark_details:\n",
    "        dt_part = job_run_bookmark_details['last_run_file_name'].split('.')[0].split('/')[-1]\n",
    "        next_file_name = f\"{dt.strftime(dt.strptime(dt_part, '%Y-%m-%d-%H') + td(hours=1), '%Y-%m-%d-%-H')}.json.gz\"\n",
    "    else:\n",
    "        next_file_name = f'{dt.strftime(dt.now().date() - td(days=3), \"%Y-%m-%d\")}-0.json.gz'\n",
    "    return job_start_time, next_file_name"
   ]
  },
  {
   "cell_type": "code",
   "execution_count": 8,
   "id": "d6b06c5e",
   "metadata": {},
   "outputs": [],
   "source": [
    "import requests"
   ]
  },
  {
   "cell_type": "code",
   "execution_count": 9,
   "id": "80fea12e",
   "metadata": {},
   "outputs": [],
   "source": [
    "def upload_file_to_s3(file_name):\n",
    "   res = requests.get(f'https://data.gharchive.org/{file_name}')\n",
    "\n",
    "   s3_client = boto3.client('s3')\n",
    "   upload_res = s3_client.put_object(\n",
    "      Bucket='itversitydata',\n",
    "      Key=f'landing/ghactivity/{file_name}',\n",
    "      Body=res.content\n",
    "   )\n",
    "\n",
    "   return {\n",
    "      'last_run_file_name': f's3://itversitydata/landing/ghactivity/{file_name}',\n",
    "      'status_code': upload_res['ResponseMetadata']['HTTPStatusCode']\n",
    "   }"
   ]
  },
  {
   "cell_type": "code",
   "execution_count": 10,
   "id": "7b0669e0",
   "metadata": {},
   "outputs": [],
   "source": [
    "def save_job_run_details(job_details, job_run_details, job_start_time):\n",
    "    dynamodb = boto3.resource('dynamodb')\n",
    "    job_run_details_item = {\n",
    "        'job_id': job_details['job_id'],\n",
    "        'job_run_time': job_start_time,\n",
    "        'job_run_bookmark_details': job_run_details,\n",
    "        'create_ts': int(time.mktime(dt.now().timetuple()))\n",
    "    }\n",
    "    job_run_details_table = dynamodb.Table('job_run_details')\n",
    "    job_run_details_table.put_item(Item=job_run_details_item)\n",
    "    \n",
    "    job_details_table = dynamodb.Table('jobs')\n",
    "    job_details['job_run_bookmark_details'] = job_run_details\n",
    "    job_details_table.put_item(Item=job_details)"
   ]
  },
  {
   "cell_type": "code",
   "execution_count": 11,
   "id": "9775e8f6",
   "metadata": {},
   "outputs": [],
   "source": [
    "job_details = get_job_details('ghactivity_ingest')\n",
    "job_start_time, next_file = get_next_file_name(job_details)\n",
    "job_run_details = upload_file_to_s3(next_file)\n",
    "save_job_run_details(job_details, job_run_details, job_start_time)"
   ]
  },
  {
   "cell_type": "code",
   "execution_count": 12,
   "id": "068f3e8b",
   "metadata": {},
   "outputs": [
    {
     "name": "stdout",
     "output_type": "stream",
     "text": [
      "2022-06-05 18:38:42  146969588 2022-06-02-0.json.gz\n"
     ]
    }
   ],
   "source": [
    "!aws s3 ls s3://itversitydata/landing/ghactivity/"
   ]
  },
  {
   "cell_type": "code",
   "execution_count": 13,
   "id": "e0bd61ab",
   "metadata": {},
   "outputs": [],
   "source": [
    "job_details = get_job_details('ghactivity_ingest')\n",
    "job_start_time, next_file = get_next_file_name(job_details)\n",
    "job_run_details = upload_file_to_s3(next_file)\n",
    "save_job_run_details(job_details, job_run_details, job_start_time)"
   ]
  },
  {
   "cell_type": "code",
   "execution_count": 14,
   "id": "b5413131",
   "metadata": {},
   "outputs": [
    {
     "name": "stdout",
     "output_type": "stream",
     "text": [
      "2022-06-05 18:38:42  146969588 2022-06-02-0.json.gz\n",
      "2022-06-05 18:39:36   99376873 2022-06-02-1.json.gz\n"
     ]
    }
   ],
   "source": [
    "!aws s3 ls s3://itversitydata/landing/ghactivity/"
   ]
  },
  {
   "cell_type": "code",
   "execution_count": 15,
   "id": "2fbd7121",
   "metadata": {},
   "outputs": [
    {
     "data": {
      "text/plain": [
       "{'Items': [{'job_description': 'Transform Files from JSON to Parquet',\n",
       "   'is_active': 'Y',\n",
       "   'job_id': 'ghactivity_transform'},\n",
       "  {'job_description': 'Ingest data from gmail to s3',\n",
       "   'is_active': 'Y',\n",
       "   'job_id': 'ghactivity_ingest',\n",
       "   'baseline_days': Decimal('3'),\n",
       "   'job_run_bookmark_details': {'last_run_file_name': 's3://itversitydata/landing/ghactivity/2022-06-02-1.json.gz',\n",
       "    'status_code': Decimal('200')}}],\n",
       " 'Count': 2,\n",
       " 'ScannedCount': 2,\n",
       " 'ResponseMetadata': {'RequestId': 'VL95U6UEC33P60DP3BBV3MAS4RVV4KQNSO5AEMVJF66Q9ASUAAJG',\n",
       "  'HTTPStatusCode': 200,\n",
       "  'HTTPHeaders': {'server': 'Server',\n",
       "   'date': 'Sun, 05 Jun 2022 13:10:20 GMT',\n",
       "   'content-type': 'application/x-amz-json-1.0',\n",
       "   'content-length': '452',\n",
       "   'connection': 'keep-alive',\n",
       "   'x-amzn-requestid': 'VL95U6UEC33P60DP3BBV3MAS4RVV4KQNSO5AEMVJF66Q9ASUAAJG',\n",
       "   'x-amz-crc32': '1115827526'},\n",
       "  'RetryAttempts': 0}}"
      ]
     },
     "execution_count": 15,
     "metadata": {},
     "output_type": "execute_result"
    }
   ],
   "source": [
    "dynamodb = boto3.resource('dynamodb')\n",
    "jobs_table = dynamodb.Table('jobs')\n",
    "jobs_table.scan()"
   ]
  },
  {
   "cell_type": "code",
   "execution_count": 16,
   "id": "b74f80aa",
   "metadata": {},
   "outputs": [
    {
     "data": {
      "text/plain": [
       "{'Items': [{'create_ts': Decimal('1654306829'),\n",
       "   'job_id': 'ghactivity_ingest',\n",
       "   'job_run_bookmark_details': {'last_run_file_name': '2022-06-01-0.json.gz',\n",
       "    'status_code': Decimal('200')},\n",
       "   'job_run_time': Decimal('1654306640')},\n",
       "  {'create_ts': Decimal('1654307311'),\n",
       "   'job_id': 'ghactivity_ingest',\n",
       "   'job_run_bookmark_details': {'last_run_file_name': '2022-06-01-0.json.gz',\n",
       "    'status_code': Decimal('200')},\n",
       "   'job_run_time': Decimal('1654307273')},\n",
       "  {'create_ts': Decimal('1654307382'),\n",
       "   'job_id': 'ghactivity_ingest',\n",
       "   'job_run_bookmark_details': {'last_run_file_name': '2022-06-01-1.json.gz',\n",
       "    'status_code': Decimal('200')},\n",
       "   'job_run_time': Decimal('1654307339')},\n",
       "  {'create_ts': Decimal('1654323400'),\n",
       "   'job_id': 'ghactivity_ingest',\n",
       "   'job_run_bookmark_details': {'last_run_file_name': '2022-06-01-2.json.gz',\n",
       "    'status_code': Decimal('200')},\n",
       "   'job_run_time': Decimal('1654323356')},\n",
       "  {'create_ts': Decimal('1654323809'),\n",
       "   'job_id': 'ghactivity_ingest',\n",
       "   'job_run_bookmark_details': {'last_run_file_name': '2022-06-01-3.json.gz',\n",
       "    'status_code': Decimal('200')},\n",
       "   'job_run_time': Decimal('1654323765')},\n",
       "  {'create_ts': Decimal('1654386993'),\n",
       "   'job_id': 'ghactivity_ingest',\n",
       "   'job_run_bookmark_details': {'last_run_file_name': '2022-06-02-0.json.gz',\n",
       "    'status_code': Decimal('200')},\n",
       "   'job_run_time': Decimal('1654386944')},\n",
       "  {'create_ts': Decimal('1654387068'),\n",
       "   'job_id': 'ghactivity_ingest',\n",
       "   'job_run_bookmark_details': {'last_run_file_name': '2022-06-02-0.json.gz',\n",
       "    'status_code': Decimal('200')},\n",
       "   'job_run_time': Decimal('1654387019')},\n",
       "  {'create_ts': Decimal('1654387210'),\n",
       "   'job_id': 'ghactivity_ingest',\n",
       "   'job_run_bookmark_details': {'last_run_file_name': '2022-06-02-1.json.gz',\n",
       "    'status_code': Decimal('200')},\n",
       "   'job_run_time': Decimal('1654387170')},\n",
       "  {'create_ts': Decimal('1654387727'),\n",
       "   'job_id': 'ghactivity_ingest',\n",
       "   'job_run_bookmark_details': {'last_run_file_name': '2022-06-02-0.json.gz',\n",
       "    'status_code': Decimal('200')},\n",
       "   'job_run_time': Decimal('1654387661')},\n",
       "  {'create_ts': Decimal('1654387772'),\n",
       "   'job_id': 'ghactivity_ingest',\n",
       "   'job_run_bookmark_details': {'last_run_file_name': '2022-06-02-1.json.gz',\n",
       "    'status_code': Decimal('200')},\n",
       "   'job_run_time': Decimal('1654387731')},\n",
       "  {'create_ts': Decimal('1654414988'),\n",
       "   'job_id': 'ghactivity_ingest',\n",
       "   'job_run_bookmark_details': {'last_run_file_name': '2022-06-02-2.json.gz',\n",
       "    'status_code': Decimal('200')},\n",
       "   'job_run_time': Decimal('1654414935')},\n",
       "  {'create_ts': Decimal('1654415323'),\n",
       "   'job_id': 'ghactivity_ingest',\n",
       "   'job_run_bookmark_details': {'last_run_file_name': 's3://itversitydata/ghactivity/2022-06-02-3.json.gz',\n",
       "    'status_code': Decimal('200')},\n",
       "   'job_run_time': Decimal('1654415293')},\n",
       "  {'create_ts': Decimal('1654429101'),\n",
       "   'job_id': 'ghactivity_ingest',\n",
       "   'job_run_bookmark_details': {'last_run_file_name': 's3://itversitydata/landing/ghactivity/2022-06-02-4.json.gz',\n",
       "    'status_code': Decimal('200')},\n",
       "   'job_run_time': Decimal('1654429099')},\n",
       "  {'create_ts': Decimal('1654430974'),\n",
       "   'job_id': 'ghactivity_ingest',\n",
       "   'job_run_bookmark_details': {'last_run_file_name': 's3://itversitydata/landing/ghactivity/2022-06-02-5.json.gz',\n",
       "    'status_code': Decimal('200')},\n",
       "   'job_run_time': Decimal('1654430972')},\n",
       "  {'create_ts': Decimal('1654431257'),\n",
       "   'job_id': 'ghactivity_ingest',\n",
       "   'job_run_bookmark_details': {'last_run_file_name': 's3://itversitydata/landing/ghactivity/2022-06-02-6.json.gz',\n",
       "    'status_code': Decimal('200')},\n",
       "   'job_run_time': Decimal('1654431255')},\n",
       "  {'create_ts': Decimal('1654434560'),\n",
       "   'job_id': 'ghactivity_ingest',\n",
       "   'job_run_bookmark_details': {'last_run_file_name': 's3://itversitydata/landing/ghactivity/2022-06-02-0.json.gz',\n",
       "    'status_code': Decimal('200')},\n",
       "   'job_run_time': Decimal('1654434504')},\n",
       "  {'create_ts': Decimal('1654434615'),\n",
       "   'job_id': 'ghactivity_ingest',\n",
       "   'job_run_bookmark_details': {'last_run_file_name': 's3://itversitydata/landing/ghactivity/2022-06-02-1.json.gz',\n",
       "    'status_code': Decimal('200')},\n",
       "   'job_run_time': Decimal('1654434564')}],\n",
       " 'Count': 17,\n",
       " 'ScannedCount': 17,\n",
       " 'ResponseMetadata': {'RequestId': '5O9152VVC9TNV9MSSFLKBQ1G13VV4KQNSO5AEMVJF66Q9ASUAAJG',\n",
       "  'HTTPStatusCode': 200,\n",
       "  'HTTPHeaders': {'server': 'Server',\n",
       "   'date': 'Sun, 05 Jun 2022 13:10:20 GMT',\n",
       "   'content-type': 'application/x-amz-json-1.0',\n",
       "   'content-length': '3881',\n",
       "   'connection': 'keep-alive',\n",
       "   'x-amzn-requestid': '5O9152VVC9TNV9MSSFLKBQ1G13VV4KQNSO5AEMVJF66Q9ASUAAJG',\n",
       "   'x-amz-crc32': '2390922204'},\n",
       "  'RetryAttempts': 0}}"
      ]
     },
     "execution_count": 16,
     "metadata": {},
     "output_type": "execute_result"
    }
   ],
   "source": [
    "job_run_details_table = dynamodb.Table('job_run_details')\n",
    "job_run_details_table.scan()"
   ]
  },
  {
   "cell_type": "code",
   "execution_count": null,
   "id": "8d3e1d7f",
   "metadata": {},
   "outputs": [],
   "source": []
  }
 ],
 "metadata": {
  "interpreter": {
   "hash": "6121dc04b6ceb24296e9af0774e5a1a34c0447c78ba7caddb83fb2922c1d70b1"
  },
  "kernelspec": {
   "display_name": "Python 3.9.12 ('ga-venv': venv)",
   "language": "python",
   "name": "python3"
  },
  "language_info": {
   "codemirror_mode": {
    "name": "ipython",
    "version": 3
   },
   "file_extension": ".py",
   "mimetype": "text/x-python",
   "name": "python",
   "nbconvert_exporter": "python",
   "pygments_lexer": "ipython3",
   "version": "3.9.12"
  }
 },
 "nbformat": 4,
 "nbformat_minor": 5
}
