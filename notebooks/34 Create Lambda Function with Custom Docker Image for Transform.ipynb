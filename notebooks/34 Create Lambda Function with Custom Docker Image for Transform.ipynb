{
 "cells": [
  {
   "cell_type": "markdown",
   "id": "1e1f7364-1c2c-44b1-a5e6-a1e66cb603f7",
   "metadata": {},
   "source": [
    "Here are the steps to create AWS lambda function using custom docker image in AWS ECR.\n",
    "* Create AWS lambda function using Web Console leveraging custom docker image pushed to AWS ECR.\n",
    "* Make sure the lambda function is deployed using latest image.\n",
    "* Make sure to override CMD after creating lambda function using custom docker image.\n",
    "* Make sure there are required permissions on AWS s3 for AWS Lambda Function to write the data.\n",
    "* Make sure environment variables such as **BUCKET_NAME** and **TARGET_FOLDER** are added.\n",
    "* Make sure to configure memory as **4096 MB** and time out as 3 minutes.\n",
    "* Run and validate to see if the lambda function is working as expected or not."
   ]
  },
  {
   "cell_type": "code",
   "execution_count": null,
   "id": "70438b28-cf9d-4a45-9826-74bbb00f2cca",
   "metadata": {
    "vscode": {
     "languageId": "python"
    }
   },
   "outputs": [],
   "source": []
  }
 ],
 "metadata": {
  "kernelspec": {
   "display_name": "PySpark",
   "language": "",
   "name": "pysparkkernel"
  },
  "language_info": {
   "name": ""
  }
 },
 "nbformat": 4,
 "nbformat_minor": 5
}
