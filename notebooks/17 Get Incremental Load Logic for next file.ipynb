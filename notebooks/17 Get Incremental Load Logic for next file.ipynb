{
 "cells": [
  {
   "cell_type": "code",
   "execution_count": null,
   "id": "46b16444-f1ce-4dbb-acf1-542a1a4e7a83",
   "metadata": {},
   "outputs": [],
   "source": [
    "import boto3"
   ]
  },
  {
   "cell_type": "code",
   "execution_count": null,
   "id": "6f6bf4cd-6b7f-4a99-895c-0c1fb376e657",
   "metadata": {},
   "outputs": [],
   "source": [
    "def get_job_details(job_name):\n",
    "    dynamodb = boto3.resource('dynamodb')\n",
    "    table = dynamodb.Table('jobs')\n",
    "    job_details = table.get_item(Key={'job_id': job_name})['Item']\n",
    "    return job_details"
   ]
  },
  {
   "cell_type": "code",
   "execution_count": null,
   "id": "339b5126-4568-4c96-858f-3b7d169b5eea",
   "metadata": {},
   "outputs": [],
   "source": [
    "job_details = get_job_details('ghactivity_ingest')\n",
    "job_details"
   ]
  },
  {
   "cell_type": "code",
   "execution_count": null,
   "id": "47b63ab6-80eb-4fc1-8816-a2e25077bb88",
   "metadata": {},
   "outputs": [],
   "source": [
    "baseline_days = job_details['baseline_days']\n",
    "baseline_days"
   ]
  },
  {
   "cell_type": "code",
   "execution_count": null,
   "id": "9ce5ba2a-9238-47e6-a663-035313239460",
   "metadata": {},
   "outputs": [],
   "source": [
    "from datetime import datetime as dt"
   ]
  },
  {
   "cell_type": "code",
   "execution_count": null,
   "id": "6ad0815a-7cd4-4745-9bdb-2570e699aa18",
   "metadata": {},
   "outputs": [],
   "source": [
    "from datetime import timedelta as td"
   ]
  },
  {
   "cell_type": "code",
   "execution_count": null,
   "id": "4fb4244b-5319-4c27-ba3c-4233cccdd9d5",
   "metadata": {},
   "outputs": [],
   "source": [
    "start_time = dt.now().date() - td(days=int(baseline_days))\n",
    "start_time"
   ]
  },
  {
   "cell_type": "code",
   "execution_count": null,
   "id": "cc7ea2e9-6b9b-4fc2-a2ef-9451ed0cbcde",
   "metadata": {},
   "outputs": [],
   "source": [
    "start_file = f\"{dt.strftime(start_time, '%Y-%m-%d')}-0.json.gz\""
   ]
  },
  {
   "cell_type": "code",
   "execution_count": null,
   "id": "86f37e0b-83ec-442c-8535-2ffe702cd434",
   "metadata": {},
   "outputs": [],
   "source": [
    "start_file"
   ]
  },
  {
   "cell_type": "code",
   "execution_count": null,
   "id": "ae8ee20e-c1ba-4ee0-9326-aa872f905854",
   "metadata": {},
   "outputs": [],
   "source": [
    "job_details = {\n",
    "    'job_id': 'ghactivity_ingest',\n",
    "    'job_description': 'Ingest ghactivity data to s3',\n",
    "    'is_active': 'Y',\n",
    "    'baseline_days': 3,\n",
    "    'job_run_bookmark_details': {\n",
    "        'last_run_file_name': start_file,\n",
    "    }\n",
    "}"
   ]
  },
  {
   "cell_type": "code",
   "execution_count": null,
   "id": "723b3f72-0bf2-4537-ad3f-46eb69800396",
   "metadata": {},
   "outputs": [],
   "source": [
    "dynamodb = boto3.resource('dynamodb')"
   ]
  },
  {
   "cell_type": "code",
   "execution_count": null,
   "id": "89afef69-f7fd-464a-90b8-5e3610e48814",
   "metadata": {},
   "outputs": [],
   "source": [
    "table = dynamodb.Table('jobs')"
   ]
  },
  {
   "cell_type": "code",
   "execution_count": null,
   "id": "89e7aabf-9b14-4b21-b577-0b63044137f3",
   "metadata": {},
   "outputs": [],
   "source": [
    "table.put_item(Item=job_details)"
   ]
  },
  {
   "cell_type": "code",
   "execution_count": null,
   "id": "74c68453-190b-41b8-a61a-53ab02f9e3dc",
   "metadata": {},
   "outputs": [],
   "source": [
    "table.get_item(Key={'job_id': 'ghactivity_ingest'})"
   ]
  },
  {
   "cell_type": "code",
   "execution_count": null,
   "id": "06ad34a4-61e2-411d-95a1-010eca6d1841",
   "metadata": {},
   "outputs": [],
   "source": [
    "job_run_bookmark_details = table.get_item(Key={'job_id': 'ghactivity_ingest'})['Item']['job_run_bookmark_details']"
   ]
  },
  {
   "cell_type": "code",
   "execution_count": null,
   "id": "6e44f79a-a44a-4b6b-b881-5f9a4a1941e8",
   "metadata": {},
   "outputs": [],
   "source": [
    "job_run_bookmark_details"
   ]
  },
  {
   "cell_type": "code",
   "execution_count": null,
   "id": "1da497cc-eee9-4a01-92d9-7d2e5280ed99",
   "metadata": {},
   "outputs": [],
   "source": [
    "dt_part = job_run_bookmark_details['last_run_file_name'].split('.')[0]"
   ]
  },
  {
   "cell_type": "code",
   "execution_count": null,
   "id": "fb5bbc4f-8200-4b56-96f9-abcfffb43591",
   "metadata": {},
   "outputs": [],
   "source": [
    "next_file = f\"{dt.strftime(dt.strptime(dt_part, '%Y-%m-%d-%H') + td(hours=1), '%Y-%m-%d-%-H')}.json.gz\""
   ]
  },
  {
   "cell_type": "code",
   "execution_count": null,
   "id": "4ecd7481-c3e8-4be9-8840-7b1d40d8f9fc",
   "metadata": {},
   "outputs": [],
   "source": [
    "next_file"
   ]
  },
  {
   "cell_type": "code",
   "execution_count": null,
   "id": "b92b69c1-15e5-4011-aac1-ec9247b2cfce",
   "metadata": {},
   "outputs": [],
   "source": [
    "import requests"
   ]
  },
  {
   "cell_type": "code",
   "execution_count": null,
   "id": "4ec0bd33-60c5-4439-ba8c-63ee7fbd4629",
   "metadata": {},
   "outputs": [],
   "source": [
    "res = requests.get(f'https://data.gharchive.org/{next_file}'). \\\n",
    "    content"
   ]
  },
  {
   "cell_type": "code",
   "execution_count": null,
   "id": "efe4bc99-2380-47c6-95b8-680c1e92213d",
   "metadata": {},
   "outputs": [],
   "source": [
    "file = open(f'data/{next_file}', 'wb')"
   ]
  },
  {
   "cell_type": "code",
   "execution_count": null,
   "id": "7369254a-adb3-4a5c-bcd4-dfc76ee3611c",
   "metadata": {},
   "outputs": [],
   "source": [
    "file.write(res)"
   ]
  },
  {
   "cell_type": "code",
   "execution_count": null,
   "id": "e5af27f8-4cf1-467c-9422-5efbc0a9d6e8",
   "metadata": {},
   "outputs": [],
   "source": [
    "file.close()"
   ]
  },
  {
   "cell_type": "code",
   "execution_count": null,
   "id": "26c7382e-a855-4848-8fc7-e3e0e74d7730",
   "metadata": {},
   "outputs": [],
   "source": [
    "!ls -ltr data/"
   ]
  },
  {
   "cell_type": "code",
   "execution_count": null,
   "id": "e1939f8f-0409-4c63-bcc6-a2c188ff241f",
   "metadata": {},
   "outputs": [],
   "source": [
    "import pandas as pd"
   ]
  },
  {
   "cell_type": "code",
   "execution_count": null,
   "id": "6a169ece-ad25-41fd-babe-686fbfa52ed0",
   "metadata": {},
   "outputs": [],
   "source": [
    "df = pd.read_json('data/2022-05-31-1.json.gz', lines=True, orient='records')"
   ]
  },
  {
   "cell_type": "code",
   "execution_count": null,
   "id": "aa971552-35d7-4462-8012-cf512c02588e",
   "metadata": {},
   "outputs": [],
   "source": [
    "df"
   ]
  }
 ],
 "metadata": {
  "kernelspec": {
   "display_name": "Python 3 (ipykernel)",
   "language": "python",
   "name": "python3"
  },
  "language_info": {
   "codemirror_mode": {
    "name": "ipython",
    "version": 3
   },
   "file_extension": ".py",
   "mimetype": "text/x-python",
   "name": "python",
   "nbconvert_exporter": "python",
   "pygments_lexer": "ipython3",
   "version": "3.9.12"
  }
 },
 "nbformat": 4,
 "nbformat_minor": 5
}
