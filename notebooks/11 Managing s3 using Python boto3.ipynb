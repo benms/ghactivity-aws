{
 "cells": [
  {
   "cell_type": "markdown",
   "id": "c8070999-2764-4fc3-bec1-4e47043cc302",
   "metadata": {},
   "source": [
    "## Managing s3 using Python boto3"
   ]
  },
  {
   "cell_type": "code",
   "execution_count": null,
   "id": "57ffb414-6f23-43c7-bbd0-6472bc6fe6cd",
   "metadata": {},
   "outputs": [],
   "source": [
    "import boto3"
   ]
  },
  {
   "cell_type": "code",
   "execution_count": null,
   "id": "3d7afb8d-a491-425c-8f39-29e7fcc0fe87",
   "metadata": {},
   "outputs": [],
   "source": [
    "s3_client = boto3.client('s3')"
   ]
  },
  {
   "cell_type": "code",
   "execution_count": null,
   "id": "2b6c3ff2-21b1-49bf-a45f-9e471ff2a5f2",
   "metadata": {},
   "outputs": [],
   "source": [
    "s3_client.list_buckets()"
   ]
  },
  {
   "cell_type": "code",
   "execution_count": null,
   "id": "7bb11306",
   "metadata": {},
   "outputs": [],
   "source": [
    "for bucket in s3_client.list_buckets()['Buckets']:\n",
    "    bucket['Name']"
   ]
  },
  {
   "cell_type": "code",
   "execution_count": null,
   "id": "800f1ca8-2410-441d-ad7f-bb257daf77aa",
   "metadata": {},
   "outputs": [],
   "source": [
    "buckets = s3_client.list_buckets()['Buckets']"
   ]
  },
  {
   "cell_type": "code",
   "execution_count": null,
   "id": "299e5541-94ae-4a01-a969-137e785e7513",
   "metadata": {},
   "outputs": [],
   "source": [
    "len(buckets)"
   ]
  },
  {
   "cell_type": "code",
   "execution_count": null,
   "id": "367a23ae-e13d-4d09-b448-354b4e5d6da4",
   "metadata": {},
   "outputs": [],
   "source": [
    "bucket_prefix = input('Enter 2 character unique prefix for your bucket: ')"
   ]
  },
  {
   "cell_type": "code",
   "execution_count": null,
   "id": "08f878ef-5e74-46a7-86c7-afde2130fab0",
   "metadata": {},
   "outputs": [],
   "source": [
    "s3_client.create_bucket(Bucket=f'{bucket_prefix}ghactivity')"
   ]
  },
  {
   "cell_type": "markdown",
   "id": "a8d9f6cf-9e51-440e-81e2-183101e210e0",
   "metadata": {},
   "source": [
    "* All the boto3 API calls return JSON Payload in the form of Python Dict.\n",
    "* You need to understand the structure of the dict and use required APIs to process the data further."
   ]
  },
  {
   "cell_type": "markdown",
   "id": "72b35b72-f416-419b-b044-5e9ff97160e2",
   "metadata": {},
   "source": [
    "Here are some of the key interview topics on s3:\n",
    "* s3 Event Triggers\n",
    "* API Limits\n",
    "* s3 Buckets and Objects (folders and files are considered as objects). s3 is also known as object store.\n",
    "* Cross region replication\n",
    "* Reading and writing files or s3 objects\n",
    "* Prefix (keyword argument) used in API Calls"
   ]
  },
  {
   "cell_type": "code",
   "execution_count": null,
   "id": "3746cb66-8d8d-4449-aa98-21496dbd9101",
   "metadata": {},
   "outputs": [],
   "source": []
  }
 ],
 "metadata": {
  "interpreter": {
   "hash": "6121dc04b6ceb24296e9af0774e5a1a34c0447c78ba7caddb83fb2922c1d70b1"
  },
  "kernelspec": {
   "display_name": "Python 3.9.12 ('ga-venv': venv)",
   "language": "python",
   "name": "python3"
  },
  "language_info": {
   "codemirror_mode": {
    "name": "ipython",
    "version": 3
   },
   "file_extension": ".py",
   "mimetype": "text/x-python",
   "name": "python",
   "nbconvert_exporter": "python",
   "pygments_lexer": "ipython3",
   "version": "3.9.12"
  }
 },
 "nbformat": 4,
 "nbformat_minor": 5
}
