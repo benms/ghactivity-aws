{
 "cells": [
  {
   "cell_type": "code",
   "execution_count": null,
   "id": "5470384d-4267-4125-9733-13739c50dde7",
   "metadata": {},
   "outputs": [],
   "source": [
    "!aws s3 ls s3://itversitydata/ghactivity/"
   ]
  },
  {
   "cell_type": "code",
   "execution_count": null,
   "id": "5dafd62c-b61d-49aa-b113-5e87a2f4aa1c",
   "metadata": {},
   "outputs": [],
   "source": [
    "import boto3"
   ]
  },
  {
   "cell_type": "code",
   "execution_count": null,
   "id": "a92f10ee-5f88-4d49-bf13-bca05e42e9fb",
   "metadata": {},
   "outputs": [],
   "source": [
    "dynamodb = boto3.resource('dynamodb')"
   ]
  },
  {
   "cell_type": "code",
   "execution_count": null,
   "id": "1862694e-9143-4e69-9508-757eefa3b066",
   "metadata": {},
   "outputs": [],
   "source": [
    "itr = dynamodb.tables.iterator()"
   ]
  },
  {
   "cell_type": "code",
   "execution_count": null,
   "id": "873701a6-29d3-4f26-9fd7-770818ecdbb7",
   "metadata": {},
   "outputs": [],
   "source": [
    "for table in itr:\n",
    "    print(table)"
   ]
  },
  {
   "cell_type": "code",
   "execution_count": null,
   "id": "60485dc5-153d-434c-a287-ac57f42a05cf",
   "metadata": {},
   "outputs": [],
   "source": [
    "jobs_table = dynamodb.Table('jobs')"
   ]
  },
  {
   "cell_type": "code",
   "execution_count": null,
   "id": "feb93efd-c911-4595-8d65-12151804980e",
   "metadata": {},
   "outputs": [],
   "source": [
    "jobs_table.scan()"
   ]
  },
  {
   "cell_type": "code",
   "execution_count": null,
   "id": "e3c9fab5-8022-41f1-9854-63b532c71cd0",
   "metadata": {},
   "outputs": [],
   "source": [
    "job_run_details_table = dynamodb.Table('job_run_details')"
   ]
  },
  {
   "cell_type": "code",
   "execution_count": null,
   "id": "1e720a4e-52cc-4228-aab1-f6977154c7e0",
   "metadata": {},
   "outputs": [],
   "source": [
    "job_run_details_table.scan()"
   ]
  },
  {
   "cell_type": "code",
   "execution_count": null,
   "id": "f7e81801-e770-442f-a2a6-161a262762cb",
   "metadata": {},
   "outputs": [],
   "source": [
    "import pandas as pd"
   ]
  },
  {
   "cell_type": "code",
   "execution_count": null,
   "id": "c4dc84fc",
   "metadata": {},
   "outputs": [],
   "source": [
    "!aws s3 ls s3://itversitydata/ghactivity/2022-06-01-0.json.gz"
   ]
  },
  {
   "cell_type": "code",
   "execution_count": null,
   "id": "c7ba27d3-43a7-48c7-ada6-6c39844ff7ed",
   "metadata": {},
   "outputs": [],
   "source": [
    "df = pd.read_json(\n",
    "    's3://itversitydata/ghactivity/2022-06-01-0.json.gz',\n",
    "    lines=True,\n",
    "    orient='records'\n",
    ")"
   ]
  },
  {
   "cell_type": "code",
   "execution_count": null,
   "id": "86c44382-3881-468c-a8ed-6b13bb08c8f9",
   "metadata": {},
   "outputs": [],
   "source": [
    "df.columns"
   ]
  },
  {
   "cell_type": "code",
   "execution_count": null,
   "id": "676441c3-e042-43f9-9947-11f1726e44ec",
   "metadata": {},
   "outputs": [],
   "source": [
    "df"
   ]
  }
 ],
 "metadata": {
  "interpreter": {
   "hash": "6b8722d5ee7b2bc8895cb8ad699558fd577ee3d6a9021414121a2e45c3805b8a"
  },
  "kernelspec": {
   "display_name": "Python 3.9.12 ('gi-venv': venv)",
   "language": "python",
   "name": "python3"
  },
  "language_info": {
   "codemirror_mode": {
    "name": "ipython",
    "version": 3
   },
   "file_extension": ".py",
   "mimetype": "text/x-python",
   "name": "python",
   "nbconvert_exporter": "python",
   "pygments_lexer": "ipython3",
   "version": "3.9.12"
  }
 },
 "nbformat": 4,
 "nbformat_minor": 5
}
